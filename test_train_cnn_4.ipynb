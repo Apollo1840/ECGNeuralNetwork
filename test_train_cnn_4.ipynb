{
 "cells": [
  {
   "cell_type": "code",
   "execution_count": null,
   "metadata": {},
   "outputs": [],
   "source": [
    "from keras.callbacks import ModelCheckpoint, ReduceLROnPlateau, EarlyStopping\n"
   ]
  },
  {
   "cell_type": "code",
   "execution_count": null,
   "metadata": {},
   "outputs": [],
   "source": [
    "from cnn.cnn import load_dataset, create_model, steps\n",
    "from dataset import dataset, load_files\n",
    "from utilities.labels import LABELS\n",
    "from dataset.data_augmentation import augmentated_filenames2"
   ]
  },
  {
   "cell_type": "code",
   "execution_count": null,
   "metadata": {},
   "outputs": [],
   "source": [
    "data_dir = \"./data/mit_bih/\"\n",
    "save_dir = \"./data/beats_img/\"\n",
    "_dataset_dir = './data/beats_img'\n",
    "_model = './trained_models/cnn_aami_baseline.h5'"
   ]
  },
  {
   "cell_type": "code",
   "execution_count": null,
   "metadata": {},
   "outputs": [],
   "source": [
    "train = None\n",
    "validation = None\n",
    "augmentation = False\n",
    "_batch_size = 32\n",
    "_size = (64, 64)\n",
    "_epochs = 30"
   ]
  },
  {
   "cell_type": "code",
   "execution_count": null,
   "metadata": {},
   "outputs": [],
   "source": [
    "model = create_model(out_dim=4)\n",
    "\n",
    "train, validation, test = dataset.load_files(_dataset_dir, \n",
    "                                             verbose=True, \n",
    "                                             keep_ratio=0.1)\n",
    "    \n",
    "print(len(train))\n",
    "print(len(validation))\n",
    "print(len(test))"
   ]
  },
  {
   "cell_type": "code",
   "execution_count": null,
   "metadata": {},
   "outputs": [],
   "source": [
    "if augmentation:\n",
    "    train = augmentated_filenames2(train)\n",
    "\n",
    "callbacks_list = [ModelCheckpoint(_model, monitor='val_loss', save_best_only=False),\n",
    "                  EarlyStopping(monitor='val_loss', min_delta=0, patience=10, verbose=0, mode='auto',\n",
    "                                baseline=None, restore_best_weights=False),\n",
    "                  ReduceLROnPlateau(monitor='val_loss', factor=0.8, patience=3, verbose=0, mode='auto')\n",
    "# TrainValTensorBoard(write_graph=False)\n",
    "]\n",
    "\n",
    "data_gen_train = load_dataset(train, _dataset_dir,\n",
    "                              _batch_size, _size,\n",
    "                              label_type = \"AAMI\",\n",
    "                              random_crop=augmentation,\n",
    "                              random_rotate=augmentation,\n",
    "                              flip=augmentation)\n",
    "\n",
    "data_gen_valid = load_dataset(validation, _dataset_dir,\n",
    "                              _batch_size, _size,\n",
    "                              label_type = \"AAMI\",\n",
    "                              random_crop=augmentation,\n",
    "                              random_rotate=augmentation,\n",
    "                              flip=augmentation)\n",
    "\n",
    "model.fit_generator(data_gen_train,\n",
    "                    steps_per_epoch=steps(train, _batch_size),\n",
    "                    epochs=_epochs,\n",
    "                    validation_data=data_gen_valid,\n",
    "                    validation_steps=steps(validation, _batch_size),\n",
    "                    callbacks=callbacks_list)"
   ]
  },
  {
   "cell_type": "code",
   "execution_count": null,
   "metadata": {},
   "outputs": [],
   "source": [
    "from keras.models import load_model\n",
    "\n",
    "model = load_model(_model)"
   ]
  },
  {
   "cell_type": "code",
   "execution_count": null,
   "metadata": {},
   "outputs": [],
   "source": [
    "from evaluation import evaluate_cnn"
   ]
  },
  {
   "cell_type": "code",
   "execution_count": null,
   "metadata": {},
   "outputs": [],
   "source": [
    "evaluate_cnn(model, label_type=\"AAMI\", keep_ratio=0.1)\n",
    "print(\"\")"
   ]
  },
  {
   "cell_type": "code",
   "execution_count": 10,
   "metadata": {},
   "outputs": [],
   "source": [
    "TEST_DATA_PATH = 'data/beats_img/test.txt'\n",
    "\n",
    "MITBIH_CLASSES = ['N', 'L', 'R', 'e', 'j', 'A', 'a', 'J', 'S', 'V', 'E', 'F', 'P', '/', 'f', 'u']\n",
    "MITBIH_CLASSES_REDUCED = ['N', 'L', 'R', 'e', 'j', 'A', 'a', 'J', 'S', 'V', 'E', 'F']  # , 'P', '/', 'f', 'u']\n",
    "\n",
    "AAMI2MITBIH_MAPPING = {\n",
    "    \"N\": ['N', 'L', 'R'],\n",
    "    \"SVEB\": ['A', 'a', 'J', 'S', 'e', 'j'],\n",
    "    \"VEB\": ['V', 'E'],\n",
    "    \"F\": ['F'],\n",
    "    \"Q\": ['P', '/', 'f', 'u'],\n",
    "}\n",
    "\n",
    "AAMI2MITBIH_MAPPING_REDUCED = {\n",
    "    \"N\": ['N', 'L', 'R'],\n",
    "    \"SVEB\": ['A', 'a', 'J', 'S', 'e', 'j'],\n",
    "    \"VEB\": ['V', 'E'],\n",
    "    \"F\": ['F'],\n",
    "    # \"Q\": ['P', '/', 'f', 'u'],\n",
    "}\n",
    "\n",
    "# AAMI_CLASSES_REDUCED = sorted(AAMI2MITBIH_MAPPING_REDUCED.keys())\n",
    "AAMI_CLASSES_REDUCED = ['F', 'N', 'SVEB', 'VEB']\n",
    "\n",
    "MITBIH2TYPE2_MAPPING = {\".\": \"NOR\",\n",
    "                        \"N\": \"NOR\",\n",
    "                        \"V\": \"PVC\",\n",
    "                        \"/\": \"PAB\",\n",
    "                        \"L\": \"LBB\",\n",
    "                        \"R\": \"RBB\",\n",
    "                        \"A\": \"APC\",  # APB\n",
    "                        \"a\": \"aPC\",  # aAPB\n",
    "                        \"e\": \"AEB\",\n",
    "                        \"J\": \"JPB\",\n",
    "                        \"j\": \"JEB\",\n",
    "                        \"S\": \"SVP\",  # SVPB\n",
    "                        \"!\": \"VFW\",\n",
    "                        \"F\": \"FUS\",  # Fusion\n",
    "                        \"E\": \"VEB\"}\n",
    "\n",
    "# TYPE2_CLASSES_REDUCED = sorted(MITBIH2TYPE2_MAPPING.values())\n",
    "TYPE2_CLASSES = ['AEB',\n",
    "                 'APC',\n",
    "                 'FUS',\n",
    "                 'JEB',\n",
    "                 'JPB',\n",
    "                 'LBB',\n",
    "                 'NOR',\n",
    "                 'NOR',\n",
    "                 'PAB',\n",
    "                 'PVC',\n",
    "                 'RBB',\n",
    "                 'SVP',\n",
    "                 'VEB',\n",
    "                 'VFW',\n",
    "                 'aPC']\n",
    "\n",
    "MITBIH2TYPE2_MAPPING_REDUCED = {\".\": \"NOR\",\n",
    "                                \"N\": \"NOR\",\n",
    "                                \"V\": \"PVC\",\n",
    "                                \"/\": \"PAB\",\n",
    "                                \"L\": \"LBB\",\n",
    "                                \"R\": \"RBB\",\n",
    "                                \"A\": \"APC\",\n",
    "                                \"!\": \"VFW\",\n",
    "                                \"E\": \"VEB\"}\n",
    "\n",
    "# TYPE2_CLASSES_REDUCED = sorted(MITBIH2TYPE2_MAPPING_REDUCED.values())\n",
    "TYPE2_CLASSES_REDUCED = ['APC', 'LBB', 'NOR', 'NOR', 'PAB', 'PVC', 'RBB', 'VEB', 'VFW']\n",
    "\n",
    "mitclasses2type2classes = lambda mit_classes: [MITBIH2TYPE2_MAPPING[mit_cls] for mit_cls in mit_classes if mit_cls in MITBIH2TYPE2_MAPPING]\n",
    "mitclasses2type2classes_reduced = lambda mit_classes: [MITBIH2TYPE2_MAPPING_REDUCED[mit_cls] for mit_cls in mit_classes if mit_cls in MITBIH2TYPE2_MAPPING_REDUCED]\n",
    "AAMI2TYPE2_MAPPING_REDUCED = dict([(aami_label, mitclasses2type2classes(mitclasses)) for aami_label, mitclasses in AAMI2MITBIH_MAPPING_REDUCED.items()])\n",
    "AAMI2TYPE2_MAPPING_REDUCED2 = dict([(aami_label, mitclasses2type2classes_reduced(mitclasses)) for aami_label, mitclasses in AAMI2MITBIH_MAPPING_REDUCED.items()])\n"
   ]
  },
  {
   "cell_type": "code",
   "execution_count": 11,
   "metadata": {},
   "outputs": [
    {
     "data": {
      "text/plain": [
       "{'N': ['NOR', 'LBB', 'RBB'],\n",
       " 'SVEB': ['APC', 'aPC', 'JPB', 'SVP', 'AEB', 'JEB'],\n",
       " 'VEB': ['PVC', 'VEB'],\n",
       " 'F': ['FUS']}"
      ]
     },
     "execution_count": 11,
     "metadata": {},
     "output_type": "execute_result"
    }
   ],
   "source": [
    "AAMI2TYPE2_MAPPING_REDUCED"
   ]
  },
  {
   "cell_type": "code",
   "execution_count": null,
   "metadata": {},
   "outputs": [],
   "source": []
  }
 ],
 "metadata": {
  "kernelspec": {
   "display_name": "congyuml",
   "language": "python",
   "name": "congyuml"
  },
  "language_info": {
   "codemirror_mode": {
    "name": "ipython",
    "version": 3
   },
   "file_extension": ".py",
   "mimetype": "text/x-python",
   "name": "python",
   "nbconvert_exporter": "python",
   "pygments_lexer": "ipython3",
   "version": "3.6.8"
  }
 },
 "nbformat": 4,
 "nbformat_minor": 2
}
